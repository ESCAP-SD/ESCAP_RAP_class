{
 "cells": [
  {
   "cell_type": "raw",
   "metadata": {
    "vscode": {
     "languageId": "raw"
    }
   },
   "source": [
    "---\n",
    "title: \"Making the scraper RAP friendly: code walkthrough\"\n",
    "author: Serge Goussev\n",
    "date: Sept 18, 2024\n",
    "order: 7\n",
    "format:\n",
    "  html:\n",
    "    toc: true\n",
    "    toc-expand: 2\n",
    "    code-fold: false\n",
    "    other-links:\n",
    "        - text: \"A blog listing some popular sites with which you can practice web scraping\"\n",
    "          href: https://proxyway.com/guides/best-websites-to-practice-your-web-scraping-skills\n",
    "---"
   ]
  },
  {
   "cell_type": "markdown",
   "metadata": {},
   "source": [
    "Let's apply this mapped process into some code to see how it works! "
   ]
  }
 ],
 "metadata": {
  "language_info": {
   "name": "python"
  }
 },
 "nbformat": 4,
 "nbformat_minor": 2
}
