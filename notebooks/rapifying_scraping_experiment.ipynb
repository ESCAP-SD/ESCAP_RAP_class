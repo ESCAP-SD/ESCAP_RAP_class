{
 "cells": [
  {
   "cell_type": "raw",
   "metadata": {
    "vscode": {
     "languageId": "raw"
    }
   },
   "source": [
    "---\n",
    "title: \"Making the scraper RAP friendly: some example functions\"\n",
    "date: Sept 18, 2024\n",
    "format:\n",
    "  html:\n",
    "    toc: true\n",
    "    toc-expand: 2\n",
    "    code-fold: false\n",
    "---"
   ]
  },
  {
   "cell_type": "markdown",
   "metadata": {},
   "source": [
    "Previously, we saw how to [map and plan out a more RAP friendly scraper](../docs/applying_rap/mapping_the_process.qmd) by developing a functional programming style. Let's apply some of this to a fraction of the scraper to see how this would work. We will still do this interactively (i.e. in a jupyter notebook), but we will really want to convert this into functions in separate `.py` files as a next step.\n",
    "\n",
    "## Import what we will need\n",
    "\n",
    "As before, we should first import the libraries and packages we will need"
   ]
  },
  {
   "cell_type": "code",
   "execution_count": 5,
   "metadata": {},
   "outputs": [],
   "source": [
    "from bs4 import BeautifulSoup\n",
    "import requests\n",
    "import pandas as pd\n",
    "import logging, sys\n",
    "import time"
   ]
  },
  {
   "cell_type": "markdown",
   "metadata": {},
   "source": [
    "## Create utility functions that isolate the work"
   ]
  },
  {
   "cell_type": "code",
   "execution_count": 6,
   "metadata": {},
   "outputs": [],
   "source": [
    "def get_site_data(session, url_to_scrape, header, logger):\n",
    "    \"\"\"\n",
    "    Function to isolate just the scraping portion and log the fact that we called the site\n",
    "    \"\"\"\n",
    "    logger.info(f\"Getting data from the site\")\n",
    "    with session.get(url_to_scrape, headers=header) as res:\n",
    "        response = BeautifulSoup(res.text, \"html.parser\")\n",
    "    return response\n",
    "\n",
    "def get_and_parse_product_page(product_page_url, session, logger, header):\n",
    "    \"\"\"\n",
    "    Function to focus on the parsing of information from the product page\n",
    "\n",
    "    Note - we would probably want to modularize this further and add other aspects\n",
    "    like error handling\n",
    "    \"\"\"\n",
    "    response = get_site_data(\n",
    "        session=session, \n",
    "        url_to_scrape=product_page_url,\n",
    "        logger=logger,\n",
    "        header=header)\n",
    "    # get product/book name\n",
    "    logger.info(f\"Parsing product info\")\n",
    "    title = response.title.text.split(\"|\")[0].strip()\n",
    "    # get product description\n",
    "    description = response.find_all(\"div\", class_=\"sub-header\")[0].find_next('p').text\n",
    "    # get product details and extract the full dictionary\n",
    "    all_tables = pd.read_html(product_page_url)\n",
    "    data_dict = all_tables[0].set_index(0).to_dict()[1]\n",
    "    # return the data in the format of UPC, title, description, and price\n",
    "    return (data_dict['UPC'], title, description, data_dict['Price (incl. tax)'],)\n"
   ]
  },
  {
   "cell_type": "markdown",
   "metadata": {},
   "source": [
    "## Create a main function for orchestrating the logic"
   ]
  },
  {
   "cell_type": "code",
   "execution_count": 10,
   "metadata": {},
   "outputs": [],
   "source": [
    "def main(user_agent_string, email, path_to_save_logs, product_url_to_scape):\n",
    "    \"\"\"\n",
    "    To orchestrate (i.e. automate in a specific sequence), we can make a main function\n",
    "    that calls all the other steps\n",
    "    \"\"\" \n",
    "    # Start out by initializing the logging capability.\n",
    "    logging.basicConfig(\n",
    "    level=logging.INFO,\n",
    "    format= '%(asctime)s - %(name)s - %(levelname)s - %(message)s',\n",
    "    handlers=[\n",
    "        logging.FileHandler(f\"{path_to_save_logs}{time.strftime('%Y-%m-%d_%H-%M')}.log\"),\n",
    "        logging.StreamHandler(sys.stdout)\n",
    "        ]\n",
    "    )\n",
    "    logger = logging.getLogger(__name__)\n",
    "\n",
    "    # Log that we are starting!\n",
    "    logger.info(f\"Starting the scrape of the following page: {product_url_to_scape}\")\n",
    "\n",
    "    # Set up the header\n",
    "    heads = {\n",
    "    'User-Agent':user_agent_string,\n",
    "    'email': email,\n",
    "    'Accept-Language': 'en-US, en;q=0.5'}\n",
    "    session = requests.Session()\n",
    "\n",
    "    # call and then return the main function that scrapes and parses the specific site\n",
    "    return get_and_parse_product_page(\n",
    "        product_page_url=product_url_to_scape, \n",
    "        session=session, \n",
    "        logger=logger, \n",
    "        header=heads)\n",
    "    "
   ]
  },
  {
   "cell_type": "markdown",
   "metadata": {},
   "source": [
    "## Now lets try it!\n",
    "\n",
    "We can try for two products and see what we got"
   ]
  },
  {
   "cell_type": "code",
   "execution_count": 11,
   "metadata": {},
   "outputs": [
    {
     "name": "stdout",
     "output_type": "stream",
     "text": [
      "2024-09-17 21:51:08,776 - __main__ - INFO - Starting the scrape of the following page: https://books.toscrape.com/catalogue/a-light-in-the-attic_1000/index.html\n",
      "2024-09-17 21:51:08,777 - __main__ - INFO - Getting data from the site\n",
      "2024-09-17 21:51:08,972 - __main__ - INFO - Parsing product info\n"
     ]
    },
    {
     "data": {
      "text/plain": [
       "('a897fe39b1053632',\n",
       " 'A Light in the Attic',\n",
       " \"It's hard to imagine a world without A Light in the Attic. This now-classic collection of poetry and drawings from Shel Silverstein celebrates its 20th anniversary with this special edition. Silverstein's humorous and creative verse can amuse the dowdiest of readers. Lemon-faced adults and fidgety kids sit still and read these rhythmic words and laugh and smile and love th It's hard to imagine a world without A Light in the Attic. This now-classic collection of poetry and drawings from Shel Silverstein celebrates its 20th anniversary with this special edition. Silverstein's humorous and creative verse can amuse the dowdiest of readers. Lemon-faced adults and fidgety kids sit still and read these rhythmic words and laugh and smile and love that Silverstein. Need proof of his genius? RockabyeRockabye baby, in the treetopDon't you know a treetopIs no safe place to rock?And who put you up there,And your cradle, too?Baby, I think someone down here'sGot it in for you. Shel, you never sounded so good. ...more\",\n",
       " '£51.77')"
      ]
     },
     "execution_count": 11,
     "metadata": {},
     "output_type": "execute_result"
    }
   ],
   "source": [
    "main(\n",
    "    user_agent_string = \"ESCAP Webscraping RAP demo scraper 1.0\",\n",
    "    email = \"example@email.com\",\n",
    "    path_to_save_logs = \"../data/logs/\",\n",
    "    product_url_to_scape = \"https://books.toscrape.com/catalogue/a-light-in-the-attic_1000/index.html\"\n",
    ")"
   ]
  },
  {
   "cell_type": "code",
   "execution_count": 12,
   "metadata": {},
   "outputs": [
    {
     "name": "stdout",
     "output_type": "stream",
     "text": [
      "2024-09-17 21:51:11,241 - __main__ - INFO - Starting the scrape of the following page: https://books.toscrape.com/catalogue/tipping-the-velvet_999/index.html\n",
      "2024-09-17 21:51:11,242 - __main__ - INFO - Getting data from the site\n",
      "2024-09-17 21:51:11,445 - __main__ - INFO - Parsing product info\n"
     ]
    },
    {
     "data": {
      "text/plain": [
       "('90fa61229261140a',\n",
       " 'Tipping the Velvet',\n",
       " '\"Erotic and absorbing...Written with starling power.\"--\"The New York Times Book Review \" Nan King, an oyster girl, is captivated by the music hall phenomenon Kitty Butler, a male impersonator extraordinaire treading the boards in Canterbury. Through a friend at the box office, Nan manages to visit all her shows and finally meet her heroine. Soon after, she becomes Kitty\\'s \"Erotic and absorbing...Written with starling power.\"--\"The New York Times Book Review \" Nan King, an oyster girl, is captivated by the music hall phenomenon Kitty Butler, a male impersonator extraordinaire treading the boards in Canterbury. Through a friend at the box office, Nan manages to visit all her shows and finally meet her heroine. Soon after, she becomes Kitty\\'s dresser and the two head for the bright lights of Leicester Square where they begin a glittering career as music-hall stars in an all-singing and dancing double act. At the same time, behind closed doors, they admit their attraction to each other and their affair begins. ...more',\n",
       " '£53.74')"
      ]
     },
     "execution_count": 12,
     "metadata": {},
     "output_type": "execute_result"
    }
   ],
   "source": [
    "main(\n",
    "    user_agent_string = \"ESCAP Webscraping RAP demo scraper 1.0\",\n",
    "    email = \"example@email.com\",\n",
    "    path_to_save_logs = \"../data/logs/\",\n",
    "    product_url_to_scape = \"https://books.toscrape.com/catalogue/tipping-the-velvet_999/index.html\"\n",
    ")"
   ]
  },
  {
   "cell_type": "markdown",
   "metadata": {},
   "source": [
    "Perfect. If we look at the `.log` file created in `/data/log/` we see\n",
    "\n",
    "```\n",
    "2024-09-17 21:42:55,351 - __main__ - INFO - Starting the scrape of the following page: https://books.toscrape.com/catalogue/a-light-in-the-attic_1000/index.html\n",
    "2024-09-17 21:42:55,352 - __main__ - INFO - Getting data from the site\n",
    "2024-09-17 21:42:55,571 - __main__ - INFO - Parsing product info\n",
    "2024-09-17 21:42:59,238 - __main__ - INFO - Starting the scrape of the following page: https://books.toscrape.com/catalogue/tipping-the-velvet_999/index.html\n",
    "2024-09-17 21:42:59,239 - __main__ - INFO - Getting data from the site\n",
    "2024-09-17 21:42:59,385 - __main__ - INFO - Parsing product info\n",
    "```\n",
    "\n",
    "Which means that we are logging our operations as well!"
   ]
  },
  {
   "cell_type": "markdown",
   "metadata": {},
   "source": [
    ">"
   ]
  }
 ],
 "metadata": {
  "kernelspec": {
   "display_name": "escap_rap_scraper",
   "language": "python",
   "name": "python3"
  },
  "language_info": {
   "codemirror_mode": {
    "name": "ipython",
    "version": 3
   },
   "file_extension": ".py",
   "mimetype": "text/x-python",
   "name": "python",
   "nbconvert_exporter": "python",
   "pygments_lexer": "ipython3",
   "version": "3.10.14"
  }
 },
 "nbformat": 4,
 "nbformat_minor": 2
}
