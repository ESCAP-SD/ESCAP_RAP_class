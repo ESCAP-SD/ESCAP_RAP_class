{
 "cells": [
  {
   "cell_type": "raw",
   "metadata": {
    "vscode": {
     "languageId": "raw"
    }
   },
   "source": [
    "---\n",
    "title: \"Making the scraper RAP friendly: some example functions\"\n",
    "date: Sept 18, 2024\n",
    "format:\n",
    "  html:\n",
    "    toc: true\n",
    "    toc-expand: 2\n",
    "    code-fold: false\n",
    "---"
   ]
  },
  {
   "cell_type": "markdown",
   "metadata": {},
   "source": [
    "Let's apply this mapped process into some code to see how it works! \n",
    "\n",
    "## Import what we will need"
   ]
  },
  {
   "cell_type": "code",
   "execution_count": 2,
   "metadata": {},
   "outputs": [],
   "source": [
    "# import time\n",
    "# import random\n",
    "# import json\n",
    "from bs4 import BeautifulSoup\n",
    "import requests\n",
    "import pandas as pd\n",
    "# import math\n",
    "\n",
    "import logging, sys"
   ]
  },
  {
   "cell_type": "markdown",
   "metadata": {},
   "source": [
    "## Create utility functions that isolate the work"
   ]
  },
  {
   "cell_type": "code",
   "execution_count": 27,
   "metadata": {},
   "outputs": [],
   "source": [
    "def get_site_data(session, url_to_scrape, header, logger):\n",
    "    \"\"\"\n",
    "    \n",
    "    \"\"\"\n",
    "    logger.info(f\"Getting data from the site\")\n",
    "    with session.get(url_to_scrape, headers=header) as res:\n",
    "        response = BeautifulSoup(res.text, \"html.parser\")\n",
    "    return response\n",
    "\n",
    "def get_and_parse_product_page(product_page_url, session, logger, header):\n",
    "    \"\"\"\n",
    "    \n",
    "    \"\"\"\n",
    "    response = get_site_data(\n",
    "        session=session, \n",
    "        url_to_scrape=product_page_url,\n",
    "        logger=logger,\n",
    "        header=header)\n",
    "    # get product/book name\n",
    "    logger.info(f\"Parsing product info\")\n",
    "    title = response.title.text.split(\"|\")[0].strip()\n",
    "    # get product description\n",
    "    description = response.find_all(\"div\", class_=\"sub-header\")[0].find_next('p').text\n",
    "    # get product details and extract the full dictionary\n",
    "    all_tables = pd.read_html(product_page_url)\n",
    "    data_dict = all_tables[0].set_index(0).to_dict()[1]\n",
    "    # return the data in the format of UPC, title, description, and price\n",
    "    return (data_dict['UPC'], title, description, data_dict['Price (incl. tax)'],)\n",
    "\n",
    "\n",
    "def initiate_logging(path_to_save_logs):\n",
    "    \"\"\"\n",
    "    \n",
    "    \"\"\"\n",
    "    logging.basicConfig(\n",
    "    level=logging.INFO,\n",
    "    format= '%(asctime)s - %(name)s - %(levelname)s - %(message)s',\n",
    "    handlers=[\n",
    "        logging.FileHandler(f\"{path_to_save_logs}{time.strftime('%Y-%m-%d_%H-%M')}.log\"),\n",
    "        logging.StreamHandler(sys.stdout)\n",
    "        ]\n",
    "    )\n",
    "    logger = logging.getLogger(__name__)\n",
    "    return logger\n",
    "\n"
   ]
  },
  {
   "cell_type": "markdown",
   "metadata": {},
   "source": [
    "## Create a main function for orchestrating the logic"
   ]
  },
  {
   "cell_type": "code",
   "execution_count": 28,
   "metadata": {},
   "outputs": [],
   "source": [
    "def main(user_agent_string, email, path_to_save_logs, product_url_to_scape):\n",
    "    \"\"\"\n",
    "    \n",
    "    \"\"\"    \n",
    "    logger = initiate_logging(path_to_save_logs)\n",
    "    logger.info(f\"Starting the scrape of the following page: {product_url_to_scape}\")\n",
    "\n",
    "    heads = {\n",
    "    'User-Agent':user_agent_string,\n",
    "    'email': email,\n",
    "    'Accept-Language': 'en-US, en;q=0.5'}\n",
    "    session = requests.Session()\n",
    "\n",
    "    return get_and_parse_product_page(\n",
    "        product_page_url=product_url_to_scape, \n",
    "        session=session, \n",
    "        logger=logger, \n",
    "        header=heads)\n",
    "    "
   ]
  },
  {
   "cell_type": "markdown",
   "metadata": {},
   "source": [
    "## Now lets try it!\n",
    "\n",
    "We can try for two products and see what we got"
   ]
  },
  {
   "cell_type": "code",
   "execution_count": 29,
   "metadata": {},
   "outputs": [
    {
     "name": "stdout",
     "output_type": "stream",
     "text": [
      "2024-09-16 23:21:37,233 - __main__ - INFO - Starting the scrape of the following page: https://books.toscrape.com/catalogue/a-light-in-the-attic_1000/index.html\n",
      "2024-09-16 23:21:37,234 - __main__ - INFO - Getting data from the site\n",
      "2024-09-16 23:21:37,406 - __main__ - INFO - Parsing product info\n"
     ]
    },
    {
     "data": {
      "text/plain": [
       "('a897fe39b1053632',\n",
       " 'A Light in the Attic',\n",
       " \"It's hard to imagine a world without A Light in the Attic. This now-classic collection of poetry and drawings from Shel Silverstein celebrates its 20th anniversary with this special edition. Silverstein's humorous and creative verse can amuse the dowdiest of readers. Lemon-faced adults and fidgety kids sit still and read these rhythmic words and laugh and smile and love th It's hard to imagine a world without A Light in the Attic. This now-classic collection of poetry and drawings from Shel Silverstein celebrates its 20th anniversary with this special edition. Silverstein's humorous and creative verse can amuse the dowdiest of readers. Lemon-faced adults and fidgety kids sit still and read these rhythmic words and laugh and smile and love that Silverstein. Need proof of his genius? RockabyeRockabye baby, in the treetopDon't you know a treetopIs no safe place to rock?And who put you up there,And your cradle, too?Baby, I think someone down here'sGot it in for you. Shel, you never sounded so good. ...more\",\n",
       " '£51.77')"
      ]
     },
     "execution_count": 29,
     "metadata": {},
     "output_type": "execute_result"
    }
   ],
   "source": [
    "main(\n",
    "    user_agent_string = \"ESCAP Webscraping RAP demo scraper 1.0\",\n",
    "    email = \"example@email.com\",\n",
    "    path_to_save_logs = \"../data/logs/\",\n",
    "    product_url_to_scape = \"https://books.toscrape.com/catalogue/a-light-in-the-attic_1000/index.html\"\n",
    ")"
   ]
  },
  {
   "cell_type": "code",
   "execution_count": 30,
   "metadata": {},
   "outputs": [
    {
     "name": "stdout",
     "output_type": "stream",
     "text": [
      "2024-09-16 23:22:19,137 - __main__ - INFO - Starting the scrape of the following page: https://books.toscrape.com/catalogue/tipping-the-velvet_999/index.html\n",
      "2024-09-16 23:22:19,137 - __main__ - INFO - Getting data from the site\n",
      "2024-09-16 23:22:19,300 - __main__ - INFO - Parsing product info\n"
     ]
    },
    {
     "data": {
      "text/plain": [
       "('90fa61229261140a',\n",
       " 'Tipping the Velvet',\n",
       " '\"Erotic and absorbing...Written with starling power.\"--\"The New York Times Book Review \" Nan King, an oyster girl, is captivated by the music hall phenomenon Kitty Butler, a male impersonator extraordinaire treading the boards in Canterbury. Through a friend at the box office, Nan manages to visit all her shows and finally meet her heroine. Soon after, she becomes Kitty\\'s \"Erotic and absorbing...Written with starling power.\"--\"The New York Times Book Review \" Nan King, an oyster girl, is captivated by the music hall phenomenon Kitty Butler, a male impersonator extraordinaire treading the boards in Canterbury. Through a friend at the box office, Nan manages to visit all her shows and finally meet her heroine. Soon after, she becomes Kitty\\'s dresser and the two head for the bright lights of Leicester Square where they begin a glittering career as music-hall stars in an all-singing and dancing double act. At the same time, behind closed doors, they admit their attraction to each other and their affair begins. ...more',\n",
       " '£53.74')"
      ]
     },
     "execution_count": 30,
     "metadata": {},
     "output_type": "execute_result"
    }
   ],
   "source": [
    "main(\n",
    "    user_agent_string = \"ESCAP Webscraping RAP demo scraper 1.0\",\n",
    "    email = \"example@email.com\",\n",
    "    path_to_save_logs = \"../data/logs/\",\n",
    "    product_url_to_scape = \"https://books.toscrape.com/catalogue/tipping-the-velvet_999/index.html\"\n",
    ")"
   ]
  },
  {
   "cell_type": "markdown",
   "metadata": {},
   "source": [
    "Success! We now have a good way to scrape the site!"
   ]
  }
 ],
 "metadata": {
  "kernelspec": {
   "display_name": "escap_rap_scraper",
   "language": "python",
   "name": "python3"
  },
  "language_info": {
   "codemirror_mode": {
    "name": "ipython",
    "version": 3
   },
   "file_extension": ".py",
   "mimetype": "text/x-python",
   "name": "python",
   "nbconvert_exporter": "python",
   "pygments_lexer": "ipython3",
   "version": "3.10.14"
  }
 },
 "nbformat": 4,
 "nbformat_minor": 2
}
